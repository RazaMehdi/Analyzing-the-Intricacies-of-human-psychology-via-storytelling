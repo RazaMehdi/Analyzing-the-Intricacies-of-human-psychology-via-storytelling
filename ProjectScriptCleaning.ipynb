{
  "cells": [
    {
      "cell_type": "code",
      "execution_count": null,
      "id": "d3e195b8",
      "metadata": {
        "id": "d3e195b8"
      },
      "outputs": [],
      "source": [
        "import json"
      ]
    },
    {
      "cell_type": "markdown",
      "source": [
        "# New Section"
      ],
      "metadata": {
        "id": "sfDYTcBqNG4_"
      },
      "id": "sfDYTcBqNG4_"
    },
    {
      "cell_type": "code",
      "execution_count": null,
      "id": "0fd4e83e",
      "metadata": {
        "id": "0fd4e83e"
      },
      "outputs": [],
      "source": [
        "f = open('scripts.json', 'r')"
      ]
    },
    {
      "cell_type": "code",
      "execution_count": null,
      "id": "e498d354",
      "metadata": {
        "id": "e498d354"
      },
      "outputs": [],
      "source": [
        "data = json.loads(f.read())"
      ]
    },
    {
      "cell_type": "code",
      "execution_count": null,
      "id": "a08e1664",
      "metadata": {
        "id": "a08e1664"
      },
      "outputs": [],
      "source": [
        "import nltk"
      ]
    },
    {
      "cell_type": "code",
      "execution_count": null,
      "id": "2ac1bbd7",
      "metadata": {
        "id": "2ac1bbd7"
      },
      "outputs": [],
      "source": [
        "from nltk.corpus import stopwords\n",
        "from nltk.tokenize import word_tokenize"
      ]
    },
    {
      "cell_type": "code",
      "execution_count": null,
      "id": "cc61d67e",
      "metadata": {
        "colab": {
          "base_uri": "https://localhost:8080/"
        },
        "id": "cc61d67e",
        "outputId": "a636568d-8d94-4e81-fcbd-f597f0246aab"
      },
      "outputs": [
        {
          "output_type": "stream",
          "name": "stderr",
          "text": [
            "[nltk_data] Downloading package stopwords to /root/nltk_data...\n",
            "[nltk_data]   Package stopwords is already up-to-date!\n"
          ]
        },
        {
          "output_type": "execute_result",
          "data": {
            "text/plain": [
              "True"
            ]
          },
          "metadata": {},
          "execution_count": 13
        }
      ],
      "source": [
        "nltk.download('stopwords')"
      ]
    },
    {
      "cell_type": "code",
      "execution_count": null,
      "id": "05512e32",
      "metadata": {
        "colab": {
          "base_uri": "https://localhost:8080/"
        },
        "id": "05512e32",
        "outputId": "12a4f454-d790-404f-d426-5702809fed47"
      },
      "outputs": [
        {
          "output_type": "stream",
          "name": "stderr",
          "text": [
            "[nltk_data] Downloading package punkt to /root/nltk_data...\n",
            "[nltk_data]   Package punkt is already up-to-date!\n"
          ]
        },
        {
          "output_type": "execute_result",
          "data": {
            "text/plain": [
              "True"
            ]
          },
          "metadata": {},
          "execution_count": 14
        }
      ],
      "source": [
        "nltk.download('punkt')"
      ]
    },
    {
      "cell_type": "code",
      "execution_count": null,
      "id": "8a17f571",
      "metadata": {
        "id": "8a17f571"
      },
      "outputs": [],
      "source": [
        "for i in data['movies']:\n",
        "    tokenized_script = word_tokenize(i['script'])\n",
        "    tokenized_script_wstopwords = [word for word in tokenized_script if not word in stopwords.words()]\n",
        "    sentence_form = (\" \").join(tokenized_script_wstopwords)\n",
        "    i['script'] = sentence_form"
      ]
    },
    {
      "cell_type": "code",
      "execution_count": null,
      "id": "f7114f5b",
      "metadata": {
        "id": "f7114f5b"
      },
      "outputs": [],
      "source": []
    },
    {
      "cell_type": "code",
      "execution_count": null,
      "id": "1aadd661",
      "metadata": {
        "id": "1aadd661"
      },
      "outputs": [],
      "source": [
        "f.close()"
      ]
    },
    {
      "cell_type": "code",
      "execution_count": null,
      "id": "cfda4d2f",
      "metadata": {
        "id": "cfda4d2f"
      },
      "outputs": [],
      "source": [
        "with open(\"scripts.json\", \"w\") as jsonfile:\n",
        "    json.dump(data, jsonfile)"
      ]
    },
    {
      "cell_type": "code",
      "source": [
        "f.close()"
      ],
      "metadata": {
        "id": "7sV6FhSqoXtz"
      },
      "id": "7sV6FhSqoXtz",
      "execution_count": null,
      "outputs": []
    },
    {
      "cell_type": "code",
      "execution_count": null,
      "id": "d66b8caa",
      "metadata": {
        "id": "d66b8caa"
      },
      "outputs": [],
      "source": [
        "f = open('scripts.json', 'r')\n",
        "data = json.loads(f.read())"
      ]
    },
    {
      "cell_type": "code",
      "source": [
        "import re"
      ],
      "metadata": {
        "id": "fHgoOXnyrEDm"
      },
      "id": "fHgoOXnyrEDm",
      "execution_count": null,
      "outputs": []
    },
    {
      "cell_type": "code",
      "source": [
        "bad_chars = [',','!','@','#','$','%','^','&','*','(',')','_','-','<','>','?','/',':','[',']','.','\"',';','`']\n",
        "for i in data['movies']:\n",
        "    i['script'] = i['script'].lower()\n",
        "    for j in bad_chars:\n",
        "        i['script'] = i['script'].replace(j, '')\n",
        "\n",
        "    i['script'] = re.sub(' +', ' ', i['script'])\n",
        "    i['script'] = i['script'].strip()\n",
        ""
      ],
      "metadata": {
        "id": "vAdi_ZtMknAg"
      },
      "id": "vAdi_ZtMknAg",
      "execution_count": null,
      "outputs": []
    },
    {
      "cell_type": "code",
      "source": [
        "f.close()\n"
      ],
      "metadata": {
        "id": "ZBOOcBDDlv1Y"
      },
      "id": "ZBOOcBDDlv1Y",
      "execution_count": null,
      "outputs": []
    },
    {
      "cell_type": "code",
      "source": [
        "with open(\"scripts.json\", \"w\") as jsonfile:\n",
        "    json.dump(data, jsonfile)"
      ],
      "metadata": {
        "id": "JG2CfVfgprMD"
      },
      "id": "JG2CfVfgprMD",
      "execution_count": null,
      "outputs": []
    },
    {
      "cell_type": "code",
      "source": [
        "f.close()"
      ],
      "metadata": {
        "id": "bfbflQUnrQEt"
      },
      "id": "bfbflQUnrQEt",
      "execution_count": null,
      "outputs": []
    },
    {
      "cell_type": "code",
      "source": [
        "f = open('scripts.json', 'r')\n",
        "data = json.loads(f.read())"
      ],
      "metadata": {
        "id": "-KZS7SCSsv4D"
      },
      "id": "-KZS7SCSsv4D",
      "execution_count": null,
      "outputs": []
    },
    {
      "cell_type": "code",
      "source": [
        "names = []\n",
        "year = []\n",
        "genre = []\n",
        "running_time = []\n",
        "for i in data['movies']:\n",
        "  names.append(i['name'])\n",
        "  year.append(i['year'])\n",
        "  genre.append(i['genre'])\n",
        "  running_time.append(i['running time'])\n",
        "\n"
      ],
      "metadata": {
        "id": "IzpX6KMgszSB"
      },
      "id": "IzpX6KMgszSB",
      "execution_count": null,
      "outputs": []
    },
    {
      "cell_type": "code",
      "source": [
        "import pandas as pd"
      ],
      "metadata": {
        "id": "ck2eMwWawNb0"
      },
      "id": "ck2eMwWawNb0",
      "execution_count": null,
      "outputs": []
    },
    {
      "cell_type": "code",
      "source": [
        "df = pd.DataFrame(list(zip(names, year,genre,running_time)),\n",
        "               columns =['Name', 'Year','Genre','Running Time'])"
      ],
      "metadata": {
        "id": "ETVj4sUKtQto"
      },
      "id": "ETVj4sUKtQto",
      "execution_count": null,
      "outputs": []
    },
    {
      "cell_type": "code",
      "source": [
        "df"
      ],
      "metadata": {
        "colab": {
          "base_uri": "https://localhost:8080/",
          "height": 424
        },
        "id": "efLY64GhvQCg",
        "outputId": "0ff79a9b-c36e-4421-8d13-3dd113703fa4"
      },
      "id": "efLY64GhvQCg",
      "execution_count": null,
      "outputs": [
        {
          "output_type": "execute_result",
          "data": {
            "text/plain": [
              "                                               Name  Year  \\\n",
              "0    Star Wars: Episode V - The Empire Strikes Back  1980   \n",
              "1                                            9 to 5  1980   \n",
              "2                                        Stir Crazy  1980   \n",
              "3     Indiana Jones and the Raiders of the Lost Ark  1981   \n",
              "4                                    On Golden Pond  1981   \n",
              "..                                              ...   ...   \n",
              "123                     The Battle at Lake Changjin  2021   \n",
              "124                                         Hi, Mom  2021   \n",
              "125                               Top Gun: Maverick  2022   \n",
              "126                         Jurassic World Dominion  2022   \n",
              "127     Doctor Strange in the Multiverse of Madness  2022   \n",
              "\n",
              "                                      Genre Running Time  \n",
              "0           Action Adventure Fantasy Sci-Fi   2 hr 4 min  \n",
              "1                                    Comedy  1 hr 49 min  \n",
              "2                              Comedy Crime  1 hr 51 min  \n",
              "3                          Action Adventure  1 hr 55 min  \n",
              "4                                     Drama  1 hr 49 min  \n",
              "..                                      ...          ...  \n",
              "123                Action Drama History War  2 hr 56 min  \n",
              "124                          Comedy Romance   2 hr 8 min  \n",
              "125                            Action Drama  2 hr 10 min  \n",
              "126        Action Adventure Sci-Fi Thriller  2 hr 27 min  \n",
              "127  Action Adventure Fantasy Horror Sci-Fi   2 hr 6 min  \n",
              "\n",
              "[128 rows x 4 columns]"
            ],
            "text/html": [
              "\n",
              "  <div id=\"df-935edb67-b32d-4958-86b4-36b7e68fe93c\">\n",
              "    <div class=\"colab-df-container\">\n",
              "      <div>\n",
              "<style scoped>\n",
              "    .dataframe tbody tr th:only-of-type {\n",
              "        vertical-align: middle;\n",
              "    }\n",
              "\n",
              "    .dataframe tbody tr th {\n",
              "        vertical-align: top;\n",
              "    }\n",
              "\n",
              "    .dataframe thead th {\n",
              "        text-align: right;\n",
              "    }\n",
              "</style>\n",
              "<table border=\"1\" class=\"dataframe\">\n",
              "  <thead>\n",
              "    <tr style=\"text-align: right;\">\n",
              "      <th></th>\n",
              "      <th>Name</th>\n",
              "      <th>Year</th>\n",
              "      <th>Genre</th>\n",
              "      <th>Running Time</th>\n",
              "    </tr>\n",
              "  </thead>\n",
              "  <tbody>\n",
              "    <tr>\n",
              "      <th>0</th>\n",
              "      <td>Star Wars: Episode V - The Empire Strikes Back</td>\n",
              "      <td>1980</td>\n",
              "      <td>Action Adventure Fantasy Sci-Fi</td>\n",
              "      <td>2 hr 4 min</td>\n",
              "    </tr>\n",
              "    <tr>\n",
              "      <th>1</th>\n",
              "      <td>9 to 5</td>\n",
              "      <td>1980</td>\n",
              "      <td>Comedy</td>\n",
              "      <td>1 hr 49 min</td>\n",
              "    </tr>\n",
              "    <tr>\n",
              "      <th>2</th>\n",
              "      <td>Stir Crazy</td>\n",
              "      <td>1980</td>\n",
              "      <td>Comedy Crime</td>\n",
              "      <td>1 hr 51 min</td>\n",
              "    </tr>\n",
              "    <tr>\n",
              "      <th>3</th>\n",
              "      <td>Indiana Jones and the Raiders of the Lost Ark</td>\n",
              "      <td>1981</td>\n",
              "      <td>Action Adventure</td>\n",
              "      <td>1 hr 55 min</td>\n",
              "    </tr>\n",
              "    <tr>\n",
              "      <th>4</th>\n",
              "      <td>On Golden Pond</td>\n",
              "      <td>1981</td>\n",
              "      <td>Drama</td>\n",
              "      <td>1 hr 49 min</td>\n",
              "    </tr>\n",
              "    <tr>\n",
              "      <th>...</th>\n",
              "      <td>...</td>\n",
              "      <td>...</td>\n",
              "      <td>...</td>\n",
              "      <td>...</td>\n",
              "    </tr>\n",
              "    <tr>\n",
              "      <th>123</th>\n",
              "      <td>The Battle at Lake Changjin</td>\n",
              "      <td>2021</td>\n",
              "      <td>Action Drama History War</td>\n",
              "      <td>2 hr 56 min</td>\n",
              "    </tr>\n",
              "    <tr>\n",
              "      <th>124</th>\n",
              "      <td>Hi, Mom</td>\n",
              "      <td>2021</td>\n",
              "      <td>Comedy Romance</td>\n",
              "      <td>2 hr 8 min</td>\n",
              "    </tr>\n",
              "    <tr>\n",
              "      <th>125</th>\n",
              "      <td>Top Gun: Maverick</td>\n",
              "      <td>2022</td>\n",
              "      <td>Action Drama</td>\n",
              "      <td>2 hr 10 min</td>\n",
              "    </tr>\n",
              "    <tr>\n",
              "      <th>126</th>\n",
              "      <td>Jurassic World Dominion</td>\n",
              "      <td>2022</td>\n",
              "      <td>Action Adventure Sci-Fi Thriller</td>\n",
              "      <td>2 hr 27 min</td>\n",
              "    </tr>\n",
              "    <tr>\n",
              "      <th>127</th>\n",
              "      <td>Doctor Strange in the Multiverse of Madness</td>\n",
              "      <td>2022</td>\n",
              "      <td>Action Adventure Fantasy Horror Sci-Fi</td>\n",
              "      <td>2 hr 6 min</td>\n",
              "    </tr>\n",
              "  </tbody>\n",
              "</table>\n",
              "<p>128 rows × 4 columns</p>\n",
              "</div>\n",
              "      <button class=\"colab-df-convert\" onclick=\"convertToInteractive('df-935edb67-b32d-4958-86b4-36b7e68fe93c')\"\n",
              "              title=\"Convert this dataframe to an interactive table.\"\n",
              "              style=\"display:none;\">\n",
              "        \n",
              "  <svg xmlns=\"http://www.w3.org/2000/svg\" height=\"24px\"viewBox=\"0 0 24 24\"\n",
              "       width=\"24px\">\n",
              "    <path d=\"M0 0h24v24H0V0z\" fill=\"none\"/>\n",
              "    <path d=\"M18.56 5.44l.94 2.06.94-2.06 2.06-.94-2.06-.94-.94-2.06-.94 2.06-2.06.94zm-11 1L8.5 8.5l.94-2.06 2.06-.94-2.06-.94L8.5 2.5l-.94 2.06-2.06.94zm10 10l.94 2.06.94-2.06 2.06-.94-2.06-.94-.94-2.06-.94 2.06-2.06.94z\"/><path d=\"M17.41 7.96l-1.37-1.37c-.4-.4-.92-.59-1.43-.59-.52 0-1.04.2-1.43.59L10.3 9.45l-7.72 7.72c-.78.78-.78 2.05 0 2.83L4 21.41c.39.39.9.59 1.41.59.51 0 1.02-.2 1.41-.59l7.78-7.78 2.81-2.81c.8-.78.8-2.07 0-2.86zM5.41 20L4 18.59l7.72-7.72 1.47 1.35L5.41 20z\"/>\n",
              "  </svg>\n",
              "      </button>\n",
              "      \n",
              "  <style>\n",
              "    .colab-df-container {\n",
              "      display:flex;\n",
              "      flex-wrap:wrap;\n",
              "      gap: 12px;\n",
              "    }\n",
              "\n",
              "    .colab-df-convert {\n",
              "      background-color: #E8F0FE;\n",
              "      border: none;\n",
              "      border-radius: 50%;\n",
              "      cursor: pointer;\n",
              "      display: none;\n",
              "      fill: #1967D2;\n",
              "      height: 32px;\n",
              "      padding: 0 0 0 0;\n",
              "      width: 32px;\n",
              "    }\n",
              "\n",
              "    .colab-df-convert:hover {\n",
              "      background-color: #E2EBFA;\n",
              "      box-shadow: 0px 1px 2px rgba(60, 64, 67, 0.3), 0px 1px 3px 1px rgba(60, 64, 67, 0.15);\n",
              "      fill: #174EA6;\n",
              "    }\n",
              "\n",
              "    [theme=dark] .colab-df-convert {\n",
              "      background-color: #3B4455;\n",
              "      fill: #D2E3FC;\n",
              "    }\n",
              "\n",
              "    [theme=dark] .colab-df-convert:hover {\n",
              "      background-color: #434B5C;\n",
              "      box-shadow: 0px 1px 3px 1px rgba(0, 0, 0, 0.15);\n",
              "      filter: drop-shadow(0px 1px 2px rgba(0, 0, 0, 0.3));\n",
              "      fill: #FFFFFF;\n",
              "    }\n",
              "  </style>\n",
              "\n",
              "      <script>\n",
              "        const buttonEl =\n",
              "          document.querySelector('#df-935edb67-b32d-4958-86b4-36b7e68fe93c button.colab-df-convert');\n",
              "        buttonEl.style.display =\n",
              "          google.colab.kernel.accessAllowed ? 'block' : 'none';\n",
              "\n",
              "        async function convertToInteractive(key) {\n",
              "          const element = document.querySelector('#df-935edb67-b32d-4958-86b4-36b7e68fe93c');\n",
              "          const dataTable =\n",
              "            await google.colab.kernel.invokeFunction('convertToInteractive',\n",
              "                                                     [key], {});\n",
              "          if (!dataTable) return;\n",
              "\n",
              "          const docLinkHtml = 'Like what you see? Visit the ' +\n",
              "            '<a target=\"_blank\" href=https://colab.research.google.com/notebooks/data_table.ipynb>data table notebook</a>'\n",
              "            + ' to learn more about interactive tables.';\n",
              "          element.innerHTML = '';\n",
              "          dataTable['output_type'] = 'display_data';\n",
              "          await google.colab.output.renderOutput(dataTable, element);\n",
              "          const docLink = document.createElement('div');\n",
              "          docLink.innerHTML = docLinkHtml;\n",
              "          element.appendChild(docLink);\n",
              "        }\n",
              "      </script>\n",
              "    </div>\n",
              "  </div>\n",
              "  "
            ]
          },
          "metadata": {},
          "execution_count": 7
        }
      ]
    },
    {
      "cell_type": "code",
      "source": [
        "!pip install plotly"
      ],
      "metadata": {
        "colab": {
          "base_uri": "https://localhost:8080/"
        },
        "id": "KjKirYYcwcN-",
        "outputId": "7aab4447-cab6-4bb3-a0b4-f735a8e841e5"
      },
      "id": "KjKirYYcwcN-",
      "execution_count": null,
      "outputs": [
        {
          "output_type": "stream",
          "name": "stdout",
          "text": [
            "Looking in indexes: https://pypi.org/simple, https://us-python.pkg.dev/colab-wheels/public/simple/\n",
            "Requirement already satisfied: plotly in /usr/local/lib/python3.7/dist-packages (5.5.0)\n",
            "Requirement already satisfied: six in /usr/local/lib/python3.7/dist-packages (from plotly) (1.15.0)\n",
            "Requirement already satisfied: tenacity>=6.2.0 in /usr/local/lib/python3.7/dist-packages (from plotly) (8.1.0)\n"
          ]
        }
      ]
    },
    {
      "cell_type": "code",
      "source": [
        "import plotly.express as px"
      ],
      "metadata": {
        "id": "fnutQAiuxQVU"
      },
      "id": "fnutQAiuxQVU",
      "execution_count": null,
      "outputs": []
    },
    {
      "cell_type": "code",
      "source": [
        "fig = px.bar(df, x=\"Running Time\", y=\"Year\", title=\"RunningTime over Years\",orientation='h')\n",
        "fig.show()"
      ],
      "metadata": {
        "colab": {
          "base_uri": "https://localhost:8080/",
          "height": 542
        },
        "id": "dDRqxP-6xv1g",
        "outputId": "6faca206-c4b3-40d3-e872-b89cce585011"
      },
      "id": "dDRqxP-6xv1g",
      "execution_count": null,
      "outputs": [
        {
          "output_type": "display_data",
          "data": {
            "text/html": [
              "<html>\n",
              "<head><meta charset=\"utf-8\" /></head>\n",
              "<body>\n",
              "    <div>            <script src=\"https://cdnjs.cloudflare.com/ajax/libs/mathjax/2.7.5/MathJax.js?config=TeX-AMS-MML_SVG\"></script><script type=\"text/javascript\">if (window.MathJax) {MathJax.Hub.Config({SVG: {font: \"STIX-Web\"}});}</script>                <script type=\"text/javascript\">window.PlotlyConfig = {MathJaxConfig: 'local'};</script>\n",
              "        <script src=\"https://cdn.plot.ly/plotly-2.8.3.min.js\"></script>                <div id=\"b6b4c130-927f-4ff0-aa0b-0dd0b919e28a\" class=\"plotly-graph-div\" style=\"height:525px; width:100%;\"></div>            <script type=\"text/javascript\">                                    window.PLOTLYENV=window.PLOTLYENV || {};                                    if (document.getElementById(\"b6b4c130-927f-4ff0-aa0b-0dd0b919e28a\")) {                    Plotly.newPlot(                        \"b6b4c130-927f-4ff0-aa0b-0dd0b919e28a\",                        [{\"alignmentgroup\":\"True\",\"hovertemplate\":\"Running Time=%{x}<br>Year=%{y}<extra></extra>\",\"legendgroup\":\"\",\"marker\":{\"color\":\"#636efa\",\"pattern\":{\"shape\":\"\"}},\"name\":\"\",\"offsetgroup\":\"\",\"orientation\":\"h\",\"showlegend\":false,\"textposition\":\"auto\",\"x\":[\"2 hr 4 min\",\"1 hr 49 min\",\"1 hr 51 min\",\"1 hr 55 min\",\"1 hr 49 min\",\"2 hr 7 min\",\"1 hr 55 min\",\"1 hr 56 min\",\"2 hr 4 min\",\"2 hr 11 min\",\"2 hr 12 min\",\"1 hr 35 min\",\"1 hr 45 min\",\"1 hr 45 min\",\"1 hr 58 min\",\"2 hr 41 min\",\"1 hr 56 min\",\"1 hr 36 min\",\"1 hr 50 min\",\"1 hr 37 min\",\"2 hr\",\"1 hr 42 min\",\"1 hr 59 min\",\"1 hr 40 min\",\"1 hr 44 min\",\"2 hr 13 min\",\"1 hr 57 min\",\"2 hr 6 min\",\"2 hr 7 min\",\"2 hr 8 min\",\"1 hr 43 min\",\"2 hr 7 min\",\"3 hr 1 min\",\"1 hr 24 min\",\"2 hr 17 min\",\"2 hr 23 min\",\"1 hr 30 min\",\"2 hr\",\"2 hr 6 min\",\"2 hr 7 min\",\"2 hr 5 min\",\"2 hr 10 min\",\"1 hr 28 min\",\"2 hr 22 min\",\"2 hr 21 min\",\"1 hr 21 min\",\"2 hr 20 min\",\"2 hr 1 min\",\"2 hr 25 min\",\"1 hr 53 min\",\"1 hr 57 min\",\"3 hr 14 min\",\"1 hr 29 min\",\"1 hr 38 min\",\"2 hr 31 min\",\"2 hr 49 min\",\"2 hr 19 min\",\"2 hr 16 min\",\"1 hr 47 min\",\"1 hr 32 min\",\"2 hr 3 min\",\"2 hr 35 min\",\"2 hr 23 min\",\"2 hr 32 min\",\"2 hr 58 min\",\"1 hr 32 min\",\"2 hr 59 min\",\"2 hr 41 min\",\"2 hr 1 min\",\"3 hr 21 min\",\"1 hr 40 min\",\"2 hr 18 min\",\"1 hr 33 min\",\"2 hr 22 min\",\"2 hr 7 min\",\"2 hr 37 min\",\"2 hr 20 min\",\"2 hr 23 min\",\"2 hr 31 min\",\"2 hr 29 min\",\"1 hr 31 min\",\"2 hr 49 min\",\"2 hr 18 min\",\"2 hr 19 min\",\"2 hr 32 min\",\"2 hr 2 min\",\"1 hr 32 min\",\"2 hr 42 min\",\"2 hr 33 min\",\"1 hr 34 min\",\"1 hr 43 min\",\"1 hr 48 min\",\"2 hr 26 min\",\"2 hr 10 min\",\"2 hr 34 min\",\"2 hr 17 min\",\"2 hr 23 min\",\"2 hr 23 min\",\"2 hr 44 min\",\"1 hr 42 min\",\"2 hr 10 min\",\"1 hr 38 min\",\"2 hr 45 min\",\"2 hr 24 min\",\"2 hr 1 min\",\"2 hr 18 min\",\"2 hr 4 min\",\"2 hr 17 min\",\"2 hr 27 min\",\"2 hr 13 min\",\"1 hr 37 min\",\"2 hr 32 min\",\"2 hr 9 min\",\"2 hr 16 min\",\"2 hr 29 min\",\"2 hr 14 min\",\"2 hr 8 min\",\"3 hr 1 min\",\"1 hr 58 min\",\"1 hr 43 min\",\"2 hr 29 min\",\"1 hr 57 min\",\"2 hr 4 min\",\"2 hr 56 min\",\"2 hr 8 min\",\"2 hr 10 min\",\"2 hr 27 min\",\"2 hr 6 min\"],\"xaxis\":\"x\",\"y\":[1980,1980,1980,1981,1981,1981,1982,1982,1982,1983,1983,1983,1984,1984,1984,1985,1985,1985,1986,1986,1986,1987,1987,1987,1988,1988,1988,1989,1989,1989,1990,1990,1990,1991,1991,1991,1992,1992,1992,1993,1993,1993,1994,1994,1994,1995,1995,1995,1996,1996,1996,1997,1997,1997,1998,1998,1998,1999,1999,1999,2000,2000,2000,2001,2001,2001,2002,2002,2002,2003,2003,2003,2004,2004,2004,2005,2005,2005,2006,2006,2006,2007,2007,2007,2008,2008,2008,2009,2009,2009,2010,2010,2010,2011,2011,2011,2012,2012,2012,2013,2013,2013,2014,2014,2014,2015,2015,2015,2016,2016,2016,2017,2017,2017,2018,2018,2018,2019,2019,2019,2020,2020,2020,2021,2021,2022,2022,2022],\"yaxis\":\"y\",\"type\":\"bar\"}],                        {\"template\":{\"data\":{\"bar\":[{\"error_x\":{\"color\":\"#2a3f5f\"},\"error_y\":{\"color\":\"#2a3f5f\"},\"marker\":{\"line\":{\"color\":\"#E5ECF6\",\"width\":0.5},\"pattern\":{\"fillmode\":\"overlay\",\"size\":10,\"solidity\":0.2}},\"type\":\"bar\"}],\"barpolar\":[{\"marker\":{\"line\":{\"color\":\"#E5ECF6\",\"width\":0.5},\"pattern\":{\"fillmode\":\"overlay\",\"size\":10,\"solidity\":0.2}},\"type\":\"barpolar\"}],\"carpet\":[{\"aaxis\":{\"endlinecolor\":\"#2a3f5f\",\"gridcolor\":\"white\",\"linecolor\":\"white\",\"minorgridcolor\":\"white\",\"startlinecolor\":\"#2a3f5f\"},\"baxis\":{\"endlinecolor\":\"#2a3f5f\",\"gridcolor\":\"white\",\"linecolor\":\"white\",\"minorgridcolor\":\"white\",\"startlinecolor\":\"#2a3f5f\"},\"type\":\"carpet\"}],\"choropleth\":[{\"colorbar\":{\"outlinewidth\":0,\"ticks\":\"\"},\"type\":\"choropleth\"}],\"contour\":[{\"colorbar\":{\"outlinewidth\":0,\"ticks\":\"\"},\"colorscale\":[[0.0,\"#0d0887\"],[0.1111111111111111,\"#46039f\"],[0.2222222222222222,\"#7201a8\"],[0.3333333333333333,\"#9c179e\"],[0.4444444444444444,\"#bd3786\"],[0.5555555555555556,\"#d8576b\"],[0.6666666666666666,\"#ed7953\"],[0.7777777777777778,\"#fb9f3a\"],[0.8888888888888888,\"#fdca26\"],[1.0,\"#f0f921\"]],\"type\":\"contour\"}],\"contourcarpet\":[{\"colorbar\":{\"outlinewidth\":0,\"ticks\":\"\"},\"type\":\"contourcarpet\"}],\"heatmap\":[{\"colorbar\":{\"outlinewidth\":0,\"ticks\":\"\"},\"colorscale\":[[0.0,\"#0d0887\"],[0.1111111111111111,\"#46039f\"],[0.2222222222222222,\"#7201a8\"],[0.3333333333333333,\"#9c179e\"],[0.4444444444444444,\"#bd3786\"],[0.5555555555555556,\"#d8576b\"],[0.6666666666666666,\"#ed7953\"],[0.7777777777777778,\"#fb9f3a\"],[0.8888888888888888,\"#fdca26\"],[1.0,\"#f0f921\"]],\"type\":\"heatmap\"}],\"heatmapgl\":[{\"colorbar\":{\"outlinewidth\":0,\"ticks\":\"\"},\"colorscale\":[[0.0,\"#0d0887\"],[0.1111111111111111,\"#46039f\"],[0.2222222222222222,\"#7201a8\"],[0.3333333333333333,\"#9c179e\"],[0.4444444444444444,\"#bd3786\"],[0.5555555555555556,\"#d8576b\"],[0.6666666666666666,\"#ed7953\"],[0.7777777777777778,\"#fb9f3a\"],[0.8888888888888888,\"#fdca26\"],[1.0,\"#f0f921\"]],\"type\":\"heatmapgl\"}],\"histogram\":[{\"marker\":{\"pattern\":{\"fillmode\":\"overlay\",\"size\":10,\"solidity\":0.2}},\"type\":\"histogram\"}],\"histogram2d\":[{\"colorbar\":{\"outlinewidth\":0,\"ticks\":\"\"},\"colorscale\":[[0.0,\"#0d0887\"],[0.1111111111111111,\"#46039f\"],[0.2222222222222222,\"#7201a8\"],[0.3333333333333333,\"#9c179e\"],[0.4444444444444444,\"#bd3786\"],[0.5555555555555556,\"#d8576b\"],[0.6666666666666666,\"#ed7953\"],[0.7777777777777778,\"#fb9f3a\"],[0.8888888888888888,\"#fdca26\"],[1.0,\"#f0f921\"]],\"type\":\"histogram2d\"}],\"histogram2dcontour\":[{\"colorbar\":{\"outlinewidth\":0,\"ticks\":\"\"},\"colorscale\":[[0.0,\"#0d0887\"],[0.1111111111111111,\"#46039f\"],[0.2222222222222222,\"#7201a8\"],[0.3333333333333333,\"#9c179e\"],[0.4444444444444444,\"#bd3786\"],[0.5555555555555556,\"#d8576b\"],[0.6666666666666666,\"#ed7953\"],[0.7777777777777778,\"#fb9f3a\"],[0.8888888888888888,\"#fdca26\"],[1.0,\"#f0f921\"]],\"type\":\"histogram2dcontour\"}],\"mesh3d\":[{\"colorbar\":{\"outlinewidth\":0,\"ticks\":\"\"},\"type\":\"mesh3d\"}],\"parcoords\":[{\"line\":{\"colorbar\":{\"outlinewidth\":0,\"ticks\":\"\"}},\"type\":\"parcoords\"}],\"pie\":[{\"automargin\":true,\"type\":\"pie\"}],\"scatter\":[{\"marker\":{\"colorbar\":{\"outlinewidth\":0,\"ticks\":\"\"}},\"type\":\"scatter\"}],\"scatter3d\":[{\"line\":{\"colorbar\":{\"outlinewidth\":0,\"ticks\":\"\"}},\"marker\":{\"colorbar\":{\"outlinewidth\":0,\"ticks\":\"\"}},\"type\":\"scatter3d\"}],\"scattercarpet\":[{\"marker\":{\"colorbar\":{\"outlinewidth\":0,\"ticks\":\"\"}},\"type\":\"scattercarpet\"}],\"scattergeo\":[{\"marker\":{\"colorbar\":{\"outlinewidth\":0,\"ticks\":\"\"}},\"type\":\"scattergeo\"}],\"scattergl\":[{\"marker\":{\"colorbar\":{\"outlinewidth\":0,\"ticks\":\"\"}},\"type\":\"scattergl\"}],\"scattermapbox\":[{\"marker\":{\"colorbar\":{\"outlinewidth\":0,\"ticks\":\"\"}},\"type\":\"scattermapbox\"}],\"scatterpolar\":[{\"marker\":{\"colorbar\":{\"outlinewidth\":0,\"ticks\":\"\"}},\"type\":\"scatterpolar\"}],\"scatterpolargl\":[{\"marker\":{\"colorbar\":{\"outlinewidth\":0,\"ticks\":\"\"}},\"type\":\"scatterpolargl\"}],\"scatterternary\":[{\"marker\":{\"colorbar\":{\"outlinewidth\":0,\"ticks\":\"\"}},\"type\":\"scatterternary\"}],\"surface\":[{\"colorbar\":{\"outlinewidth\":0,\"ticks\":\"\"},\"colorscale\":[[0.0,\"#0d0887\"],[0.1111111111111111,\"#46039f\"],[0.2222222222222222,\"#7201a8\"],[0.3333333333333333,\"#9c179e\"],[0.4444444444444444,\"#bd3786\"],[0.5555555555555556,\"#d8576b\"],[0.6666666666666666,\"#ed7953\"],[0.7777777777777778,\"#fb9f3a\"],[0.8888888888888888,\"#fdca26\"],[1.0,\"#f0f921\"]],\"type\":\"surface\"}],\"table\":[{\"cells\":{\"fill\":{\"color\":\"#EBF0F8\"},\"line\":{\"color\":\"white\"}},\"header\":{\"fill\":{\"color\":\"#C8D4E3\"},\"line\":{\"color\":\"white\"}},\"type\":\"table\"}]},\"layout\":{\"annotationdefaults\":{\"arrowcolor\":\"#2a3f5f\",\"arrowhead\":0,\"arrowwidth\":1},\"autotypenumbers\":\"strict\",\"coloraxis\":{\"colorbar\":{\"outlinewidth\":0,\"ticks\":\"\"}},\"colorscale\":{\"diverging\":[[0,\"#8e0152\"],[0.1,\"#c51b7d\"],[0.2,\"#de77ae\"],[0.3,\"#f1b6da\"],[0.4,\"#fde0ef\"],[0.5,\"#f7f7f7\"],[0.6,\"#e6f5d0\"],[0.7,\"#b8e186\"],[0.8,\"#7fbc41\"],[0.9,\"#4d9221\"],[1,\"#276419\"]],\"sequential\":[[0.0,\"#0d0887\"],[0.1111111111111111,\"#46039f\"],[0.2222222222222222,\"#7201a8\"],[0.3333333333333333,\"#9c179e\"],[0.4444444444444444,\"#bd3786\"],[0.5555555555555556,\"#d8576b\"],[0.6666666666666666,\"#ed7953\"],[0.7777777777777778,\"#fb9f3a\"],[0.8888888888888888,\"#fdca26\"],[1.0,\"#f0f921\"]],\"sequentialminus\":[[0.0,\"#0d0887\"],[0.1111111111111111,\"#46039f\"],[0.2222222222222222,\"#7201a8\"],[0.3333333333333333,\"#9c179e\"],[0.4444444444444444,\"#bd3786\"],[0.5555555555555556,\"#d8576b\"],[0.6666666666666666,\"#ed7953\"],[0.7777777777777778,\"#fb9f3a\"],[0.8888888888888888,\"#fdca26\"],[1.0,\"#f0f921\"]]},\"colorway\":[\"#636efa\",\"#EF553B\",\"#00cc96\",\"#ab63fa\",\"#FFA15A\",\"#19d3f3\",\"#FF6692\",\"#B6E880\",\"#FF97FF\",\"#FECB52\"],\"font\":{\"color\":\"#2a3f5f\"},\"geo\":{\"bgcolor\":\"white\",\"lakecolor\":\"white\",\"landcolor\":\"#E5ECF6\",\"showlakes\":true,\"showland\":true,\"subunitcolor\":\"white\"},\"hoverlabel\":{\"align\":\"left\"},\"hovermode\":\"closest\",\"mapbox\":{\"style\":\"light\"},\"paper_bgcolor\":\"white\",\"plot_bgcolor\":\"#E5ECF6\",\"polar\":{\"angularaxis\":{\"gridcolor\":\"white\",\"linecolor\":\"white\",\"ticks\":\"\"},\"bgcolor\":\"#E5ECF6\",\"radialaxis\":{\"gridcolor\":\"white\",\"linecolor\":\"white\",\"ticks\":\"\"}},\"scene\":{\"xaxis\":{\"backgroundcolor\":\"#E5ECF6\",\"gridcolor\":\"white\",\"gridwidth\":2,\"linecolor\":\"white\",\"showbackground\":true,\"ticks\":\"\",\"zerolinecolor\":\"white\"},\"yaxis\":{\"backgroundcolor\":\"#E5ECF6\",\"gridcolor\":\"white\",\"gridwidth\":2,\"linecolor\":\"white\",\"showbackground\":true,\"ticks\":\"\",\"zerolinecolor\":\"white\"},\"zaxis\":{\"backgroundcolor\":\"#E5ECF6\",\"gridcolor\":\"white\",\"gridwidth\":2,\"linecolor\":\"white\",\"showbackground\":true,\"ticks\":\"\",\"zerolinecolor\":\"white\"}},\"shapedefaults\":{\"line\":{\"color\":\"#2a3f5f\"}},\"ternary\":{\"aaxis\":{\"gridcolor\":\"white\",\"linecolor\":\"white\",\"ticks\":\"\"},\"baxis\":{\"gridcolor\":\"white\",\"linecolor\":\"white\",\"ticks\":\"\"},\"bgcolor\":\"#E5ECF6\",\"caxis\":{\"gridcolor\":\"white\",\"linecolor\":\"white\",\"ticks\":\"\"}},\"title\":{\"x\":0.05},\"xaxis\":{\"automargin\":true,\"gridcolor\":\"white\",\"linecolor\":\"white\",\"ticks\":\"\",\"title\":{\"standoff\":15},\"zerolinecolor\":\"white\",\"zerolinewidth\":2},\"yaxis\":{\"automargin\":true,\"gridcolor\":\"white\",\"linecolor\":\"white\",\"ticks\":\"\",\"title\":{\"standoff\":15},\"zerolinecolor\":\"white\",\"zerolinewidth\":2}}},\"xaxis\":{\"anchor\":\"y\",\"domain\":[0.0,1.0],\"title\":{\"text\":\"Running Time\"}},\"yaxis\":{\"anchor\":\"x\",\"domain\":[0.0,1.0],\"title\":{\"text\":\"Year\"}},\"legend\":{\"tracegroupgap\":0},\"title\":{\"text\":\"RunningTime over Years\"},\"barmode\":\"relative\"},                        {\"responsive\": true}                    ).then(function(){\n",
              "                            \n",
              "var gd = document.getElementById('b6b4c130-927f-4ff0-aa0b-0dd0b919e28a');\n",
              "var x = new MutationObserver(function (mutations, observer) {{\n",
              "        var display = window.getComputedStyle(gd).display;\n",
              "        if (!display || display === 'none') {{\n",
              "            console.log([gd, 'removed!']);\n",
              "            Plotly.purge(gd);\n",
              "            observer.disconnect();\n",
              "        }}\n",
              "}});\n",
              "\n",
              "// Listen for the removal of the full notebook cells\n",
              "var notebookContainer = gd.closest('#notebook-container');\n",
              "if (notebookContainer) {{\n",
              "    x.observe(notebookContainer, {childList: true});\n",
              "}}\n",
              "\n",
              "// Listen for the clearing of the current output cell\n",
              "var outputEl = gd.closest('.output');\n",
              "if (outputEl) {{\n",
              "    x.observe(outputEl, {childList: true});\n",
              "}}\n",
              "\n",
              "                        })                };                            </script>        </div>\n",
              "</body>\n",
              "</html>"
            ]
          },
          "metadata": {}
        }
      ]
    },
    {
      "cell_type": "code",
      "source": [
        "f = open('scripts (2).json', 'r')\n",
        "data = json.loads(f.read())"
      ],
      "metadata": {
        "id": "IhmV7-LfyPXX"
      },
      "id": "IhmV7-LfyPXX",
      "execution_count": null,
      "outputs": []
    },
    {
      "cell_type": "code",
      "source": [
        "#finding all the unique genres\n",
        "genres = []\n",
        "for i in data['movies']:\n",
        "  x = i['genre'].split()\n",
        "  i['genre'] = x[0] #we only consider one genre for each movie\n",
        "  genres.append(x[0])\n",
        "genres = set(genres)\n",
        "print(genres)"
      ],
      "metadata": {
        "colab": {
          "base_uri": "https://localhost:8080/"
        },
        "id": "AR1sNvTJZmhE",
        "outputId": "0e2dd666-af44-4301-e576-0e8e58d6c3e5"
      },
      "id": "AR1sNvTJZmhE",
      "execution_count": null,
      "outputs": [
        {
          "output_type": "stream",
          "name": "stdout",
          "text": [
            "{'Adventure', 'Drama', 'Biography', 'Animation', 'Comedy', 'Mystery', 'Action'}\n"
          ]
        }
      ]
    },
    {
      "cell_type": "code",
      "source": [
        "f.close()"
      ],
      "metadata": {
        "id": "hvG2SybzbLlF"
      },
      "id": "hvG2SybzbLlF",
      "execution_count": null,
      "outputs": []
    },
    {
      "cell_type": "code",
      "source": [
        "with open(\"scripts (2).json\", \"w\") as jsonfile:\n",
        "    json.dump(data, jsonfile)"
      ],
      "metadata": {
        "id": "BDjb-8VYdNuc"
      },
      "id": "BDjb-8VYdNuc",
      "execution_count": null,
      "outputs": []
    },
    {
      "cell_type": "code",
      "source": [
        "f.close()"
      ],
      "metadata": {
        "id": "rSDiTtm-dREb"
      },
      "id": "rSDiTtm-dREb",
      "execution_count": null,
      "outputs": []
    },
    {
      "cell_type": "code",
      "source": [
        "f = open('scripts (2).json', 'r')\n",
        "data = json.loads(f.read())"
      ],
      "metadata": {
        "id": "ZxJoDrCXdXDT"
      },
      "id": "ZxJoDrCXdXDT",
      "execution_count": null,
      "outputs": []
    },
    {
      "cell_type": "code",
      "source": [
        "#now each movie has one major genre\n",
        "for i in data['movies']:\n",
        "  print(i['genre'])\n"
      ],
      "metadata": {
        "colab": {
          "base_uri": "https://localhost:8080/"
        },
        "id": "ScnfCfOOdlOt",
        "outputId": "529a39a5-3019-47e7-82a1-595f1cfd3fc2"
      },
      "id": "ScnfCfOOdlOt",
      "execution_count": null,
      "outputs": [
        {
          "output_type": "stream",
          "name": "stdout",
          "text": [
            "Action\n",
            "Comedy\n",
            "Comedy\n",
            "Action\n",
            "Drama\n",
            "Action\n",
            "Adventure\n",
            "Comedy\n",
            "Drama\n",
            "Action\n",
            "Comedy\n",
            "Drama\n",
            "Action\n",
            "Action\n",
            "Action\n",
            "Biography\n",
            "Adventure\n",
            "Action\n",
            "Action\n",
            "Action\n",
            "Drama\n",
            "Comedy\n",
            "Drama\n",
            "Action\n",
            "Adventure\n",
            "Drama\n",
            "Comedy\n",
            "Action\n",
            "Action\n",
            "Comedy\n",
            "Comedy\n",
            "Drama\n",
            "Adventure\n",
            "Animation\n",
            "Action\n",
            "Action\n",
            "Adventure\n",
            "Adventure\n",
            "Action\n",
            "Action\n",
            "Comedy\n",
            "Action\n",
            "Adventure\n",
            "Drama\n",
            "Action\n",
            "Adventure\n",
            "Adventure\n",
            "Action\n",
            "Action\n",
            "Action\n",
            "Action\n",
            "Drama\n",
            "Adventure\n",
            "Action\n",
            "Action\n",
            "Drama\n",
            "Action\n",
            "Action\n",
            "Drama\n",
            "Adventure\n",
            "Action\n",
            "Action\n",
            "Adventure\n",
            "Adventure\n",
            "Action\n",
            "Adventure\n",
            "Action\n",
            "Adventure\n",
            "Action\n",
            "Action\n",
            "Adventure\n",
            "Action\n",
            "Adventure\n",
            "Adventure\n",
            "Action\n",
            "Adventure\n",
            "Action\n",
            "Adventure\n",
            "Action\n",
            "Mystery\n",
            "Adventure\n",
            "Action\n",
            "Action\n",
            "Action\n",
            "Action\n",
            "Action\n",
            "Action\n",
            "Action\n",
            "Action\n",
            "Adventure\n",
            "Adventure\n",
            "Adventure\n",
            "Adventure\n",
            "Adventure\n",
            "Action\n",
            "Action\n",
            "Action\n",
            "Action\n",
            "Action\n",
            "Adventure\n",
            "Action\n",
            "Adventure\n",
            "Action\n",
            "Adventure\n",
            "Action\n",
            "Action\n",
            "Action\n",
            "Action\n",
            "Action\n",
            "Action\n",
            "Adventure\n",
            "Action\n",
            "Adventure\n",
            "Action\n",
            "Action\n",
            "Action\n",
            "Action\n",
            "Action\n",
            "Adventure\n",
            "Adventure\n",
            "Action\n",
            "Action\n",
            "Action\n",
            "Action\n",
            "Comedy\n",
            "Action\n",
            "Action\n",
            "Action\n"
          ]
        }
      ]
    },
    {
      "cell_type": "code",
      "source": [
        "#lets remove punctuations\n",
        "import string"
      ],
      "metadata": {
        "id": "2ftGN2polkyj"
      },
      "id": "2ftGN2polkyj",
      "execution_count": null,
      "outputs": []
    },
    {
      "cell_type": "code",
      "source": [
        "for i in data['movies']:\n",
        "  i['script'] = i['script'].translate(str.maketrans(' ', ' ', string.punctuation))\n"
      ],
      "metadata": {
        "id": "HCYzT4p4dtNS",
        "colab": {
          "base_uri": "https://localhost:8080/",
          "height": 174
        },
        "outputId": "da4c4474-b779-4981-8ce2-20220510eb37"
      },
      "id": "HCYzT4p4dtNS",
      "execution_count": null,
      "outputs": [
        {
          "output_type": "execute_result",
          "data": {
            "text/plain": [
              "'after opening logos mysterious void full colors weird lines on lines running america chavez defender stephen strange escape demon chasing defender strange turns opponent casts spell freezes temporarily america spanish did kill defender strange spanish no we ll kill the camera pans spinning pedestal floating middle ether a book glowing magic rests america the book vishanti defender strange we nt power get book america how defender strange jump defender strange it s strong i nt hold defender strange starts taking america s powers away defender strange i m sorry this america what defender strange we nt power you nt control but i america but re friends defender strange i but grand calculus multiverse sacrifice worth life defender strange suddenly impaled chest demon america starts running book vishanti demon stops the demon restrains america lifts screams opens star shaped portal defender strange sees fires bolts release demon s grip america falls portal defender strange falls portal camera spinning a flash white scene cuts present day doctor strange bolts awake sits bed breathing hard puts hands clear sweat he runs hands hair calm sees broken wrist watch reflected watch strange bed picks watch we strange formal clothing walking mirror sort tie after short cuffs magic straighten snaps fingers retrieve cloak levitation front shirt pocket after strange jacket walks new york sanctum scene cuts church stephen sits bench waiting ceremony begin on left notices familiar doctor nicodemus west former colleague rival doctor nicodemus west doctor strange doctor stephen strange doctor west doctor nicodemus west have nt doctor stephen strange i preoccupied dust air years doctor nicodemus west so lot while i i lost cats and brother doctor stephen strange i m sorry doctor nicodemus west thank i uh i guess night wondering did happen was path doctor stephen strange no but i made play doctor nicodomus west of course the surgeon superhero but nt girl doctor christine palmer glass red doctor stephen strange allow miss doctor strange magic change water christine palmer s glass wine doctor stephen strange a nose doctor christine palmer what wedding nah it perfect doctor stephen strange congratulations doctor christine palmer thank there s charlie i introduce s kind it s embarrassing s big doctor stephen strange so hey uh christine i i wish different i stopped caring i make sacrifices to protect i m sorry doctor christine palmer it gon work doctor stephen strange why doctor christine palmer because stephen you holding knife and i respected i nt love doctor stephen strange how long barrel doctor christine palmer long time doctor stephen strange yeah i bet truly i m glad re happy doctor christine palmer i i doctor stephen strange good doctor christine palmer are doctor stephen strange i m happy doctor christine palmer good you deserve doctor stephen strange thank america look doctor stephen strange do i wong help you re welcome do s ancient custom bow presence sorcerer supreme doctor stephen strange yeah i m aware customs hold hold charlie woah that s incredible doctor christine palmer yeah doctor stephen strange oh god wong who s doctor stephen strange yeah i gon question grabbing wrist hey kid what creature wong where parents doctor stephen strange take back sanct she slingy she slingy we re gon kid i bust ass save life remember giant monsters i handle but bothers night dream america that nt dream it universe america how experience guys multiverse doctor stephen strange we experience multiverse most recently incident spiderman america with man doctor stephen strange spiderman he powers spider wong hence america gross does spider doctor stephen strange no more wong climbs walls shoot webs doctor stephen strange yeah bingo america out butt doctor stephen strange no maybe i nt wong ew doctor stephen strange honestly i hope america super weird doctor stephen strange you re gon stomachache america i m universe how stomach works doctor stephen strange i nt i nt re universe which i m sitting waiting enlighten america spanish frankly doctor stranges i ve favorite doctor stephen strange which means america spanish he nt speak spanish wong spanish i nt speaks language doctor stephen strange look i left nice wedding save smartness kid eaten octopus tell wong whose wedding doctor stephen strange christine s wong you america chavez holy shit you married christine passerby do mind doctor stephen strange yes i no i nt yes you explain s why octopus eat america chavez that kidnap it s henchman works demon all knew wanted power doctor stephen strange what power america chavez i travel multiverse doctor stephen strange what wong you physically move universe doctor stephen strange how america chavez that s problem i nt i nt control only i m afraid doctor stephen strange okay did defeat demon america chavez well knew magical book pure sorcerer defeat enemy doctor stephen strange the book vishanti it s real it s fairy nt exist wong actually i found secret book sorcerer supreme doctor stephen strange unbelievable america chavez you re sorcerer supreme doctor stephen strange no i sorcerer supreme america other sorcerer supreme universe wong although exist book vishanti unreachable america it reached then demon caught i d protect you nt doctor stephen strange that fight dream america that nt dream doctor stephen strange prove it nt dream that means dreams windows lives multiversal america that theory wong so recurring nightmare i m running naked clown america chavez somewhere s real doctor stephen strange somewhere i ponytail wong there creatures coming doctor stephen strange that power dangerous hands kid imagine real threat acquired wong it occurs young nt america chavez america chavez wong miss chavez kamartaj you ll safe america chavez how i nt betray doctor stephen strange i guess re gon trust wong what that s violate ordinance doctor stephen strange i ve buried worse wong the creature killed markings octopus doctor stephen strange runes wong this nt sorcery doctor stephen strange it s witchcraft wong do s faced the wandavision theme picks background doctor stephen strange i i billy tommy chocolate wanda 2 hey what i billy tommy but nt wait wanda 2 well i go wash hands tommy mom i m wanda 2 okay billy you tuck mom wanda 2 i you a family forever we leave tommy mom i changed mind you tuck wanda 2 okay love strange apples wanda eventually strange smells wanda sweet i gon real it s real thanks i put magic strange so i wanda well i knew sooner d show wanting discuss happened westview i made mistakes hurt strange but put things doubt i m talk westview wanda then strange we wanda with strange what multiverse wanda the multiverse vis theories he believed real and dangerous strange well we found girl travel s pursued wanda pursued strange some kind demon one covets power now ve kamartaj we ve defenses we avenger wanda there avengers strange yeah choice archer mohawk bugthemed crimefighters one powerful magic wielders planet s easy call come kamartaj we ll back lunch box wanda what brought america strange here wanda yeah i s to hunted abilities wanted i protect you told strange no no i nt wanda you hex easy part the lying strange the darkhold wanda you ve heard darkhold strange i s book damned and corrupts touches i wonder s wanda the darkhold showed truth everything i lost strange what america what multiverse wanda i m leave reality i children strange wanda children nt real you created magic wanda that s mother if knew universe happy nt wan strange i happy wanda i selfdeception strange what re flagrant violation natural law if child s power nt survive wanda i nt relish hurting stephen but s child she s supernatural such raw power wreak havoc worlds her sacrifice greater strange well kiss lunchbox goodbye s kind justification enemies wanda is when gave thanos time stone strange that i i wanda you break rules hero i i enemy that nt fair strange what wanda return kamartaj prepare hand america chavez sundown peacefully after you ll strange and nt wanda then nt wanda it scarlet witch wong scarlet witch wanda s she s darkhold darkhold wong scarlet witch unfathomable magic she rewrite reality chooses prophesized rule annihilate cosmos strange she town mind if america s power enslave entire multiverse america so person told i person s kill strange yeah wong suspend teaching and arm students kamartaj fortress rintrah that s masters hong kong london sanctum master hong kong sanctum honored death side wong the honor master london sanctum whatever sorcerer supreme asks wong it s ancient custom choose words wisely the fate multiverse depend strange got no pressure wanda all child yesterday strange wanda justifiably angry you make terrible sacrifices wanda i blew hole head i loved meant do speak sacrifice stephen strange if give i i ll send world christine strange the full kamartaj stands wong defensive positions now strange do dare enter sacred grounds wanda you idea reasonable i strange yeah book damned calling witch conjuring creatures abduct kid i nt call reasonable wanda sending creatures instead mercy and spite hypocrisies insults i begged safely you exhausted patience but i hope understand s happen this reasonable wong hold hold strange nailed wong reinforce shield strange she s heads wong sorcerers fortify mind wanda run wong the shield sara fire wong yes sara take cover wong fire strange fall back wong wong get strange you girl re gon wanda fine strange we now america why what happened wong kamartaj fallen strange reflections she s reflections wong cover wanda you gave lives children strange you lives you allowed cross multiverse wanda i m monster stephen i m mother strange wanda children they nt exist wanda but in universe i because i dream every night of boys of life every night dream and morning nightmare strange what reach what what mother doctor stephen strange you america chavez you saved doctor stephen strange i hope doctor strange america chavez stand observe surroundings rooftop america chavez surprised nt puke doctor stephen strange that s weird trip kid so this new york multiver doctor strange quickly proven wrong runs nearby chimney pukes chimney stack covering strange puking america chavez there america chavez watches doctor strange puke times recovers doctor stephen strange crap the cloak levitation wipes strange s mouth cut doctor strange takes cloak examines it nasty gash doctor stephen strange yeah you pretty dinged doctor strange puts cloak back we ll fixed all america you ve open portal back america chavez i nt doctor stephen strange you america chavez not purpose doctor stephen strange wong back wanda i m hope america chavez i nt control powers doctor stephen strange you control even i doctor strange sees america chavez shrink back realises bringing memories defender strange sorry well universe s version maybe control powers america chavez this universe nt doctor stephen strange what america chavez none doctor stephen strange but america chavez because i ve looked and i dream doctor stephen strange it s kid even back i fighting wanda america chavez what book vishanti doctor stephen strange what america chavez other stop doctor stephen strange yeah he s i nt so s america chavez we find doctor stephen strange other  strange they red america rule number multiversal travel you nt strange right it s red so s rule number america america america rule number find food preferrably pizza pizza balls strange how d pay america it free food s free universes it s weird guys pay pizza poppa hey you nt pay america crap maybe s free pizza poppa pizza poppa paid strange alright pizza poppa relax s kid pizza poppa relax doctor strange where cape oh feels authentic strange it s cape s cloak and i suggest pizza poppa you suit strange museum nt strange strange museum pizza poppa you re taker why nt mustard strange come it s permanent america is gon stop minutes strange about weeks those universes paint america yeah you nt wan stuck it s hard eat strange how universes america seventytwo seventythree counting strange that s that s lot automatic voice memory lane replay significant memories discounted price we remember nt forget christine this pretty fancy sure nt student loan strange nah i sold kidneys operated week christine so i congratulations strange what christine open strange christine this amazing thank we nt time automatic voice memory lane replay significant memories discounted price we remember nt forget strange where s america home my moms yeah re this waste time strange hey kid that time opened portal america it nt matter strange it matter you lost parents america i nt lose i killed strange no no do nt america okay i opened portal powers i nt control random probably deadly universe escape strange listen moms daughter they survived i m ll meet someday america not strange thanks america that woman memory lane christine strange yes christine how america from strange were america no nt talk anymore you blew strange of course america did blow christine strange yes i guess i america why strange complicated america more complicated chased witch multiverse strange yes it america gave life defeating thanos  strange yeah we re america if s dead who s master sanctum strange oh shit america you strange yeah mordo he s guy kamartaj america oh great strange and snapped dedicated life america oh great mordo i suspected day strange you mordo yes because suspected day my brother strange all mordo come about universe strange we red mordo you re formidable a multiversal traveler but stars brought doctor strange safety strange well cause jumped ship nt re safe our wanda ability conjure demons monsters attack america universes mordo so darkhold strange oh darkhold mordo oh we darkhold universe i sanctum we risk weapon dangerous falling wrong hands strange damn mordo if darkhold i m afraid worse summon monsters america what mordo there spell contained pages corrosive soul a desecration reality dreamwalking a dreamwalking sorcerer projects consciousness universe possessing body alternate playing puppeteer unholy doppelganger pursue enemies afar the possession permanent link realities fleeting time dreamwalk irreparable damage universe invade so demon it scarlet witch america but nt begin strange because reasonable what book vishanti mordo the darkhold s antithesis it give sorcerer power vanquish enemy strange i mordo i m sorry stephen but i hope understand that wanda maximoff threatens reality it s strange what tea you b sands nisanti mordo i acted strange she coming you wanda 2 boys s time bed billy tommy can ice cream please please you s wanda 2 who billy tommy 2003 tigers billy mom wanda yes sweetheart billy where wanda just trash billy can show mom hurry come come s important tommy mom you ll come hurry it s important billy okay listen tommy i m gon start billy no i wan start tommy i wan start billy no i wan start wanda why nt start tommy okay billy okay you ready tommy yeah billy tommy three we ice cream child and ice cream promise sara you re alive yes but lost wong set free i destroy book sara no it wong no billy mom what happened are wanda billy tommy no no i darkhold spells you sorcerer supreme tell wong you ll kill witch wanda not them wong wanda stop wanda the darkhold copy wanda a copy wong legend speaks mountain wretched spells seek carved walls it s darkhold transcribed mount wundagore wanda wundagore wong no survived journey wanda perhaps exception america hey hey this universe sucks strange cloak hey hey labcoat where hell look i nt re these situations nt work nameless scientist christine christine 2 hello stephen america ay dios christine 2 miss chavez to answer question re highly secure research facility the sentient cloak surveillance testing strange testing christine 2 well you re visitors universe your magnetic signatures radioactive you carying diseases nt treatments hence amazing polycarbonate fishbowls strange right so i christine 2 yes i developed sands nisanti one stephen s magical relics strange stephen is kinda cyborg christine 2 our universe 838 and ve designated 616 strange oh you guys lot multiverse you naming realities christine 2 yes me my senior phoned baxter foundation i specialize multiversal research strange so d working wherever christine 2 oh i volunteered at funeral strange thank christine 2 your injuries re they re similar re identical it s fascinating strange what universe christine 2 we figured strange yeah that s common christine you everyone s real danger look i nt christine 2 and i nt whatever i universe matter strange why christine 2 because re dangerous stephen strange someone universe girl and s gon rip place atom atom so i nt re avengers shield mordo we re strange well hydra mordo the illuminati strange the illumiwhati do nt hurt kid it s gon wanda you nt portal wong my magic masters mystic arts nt meant tread forbidden grounds wundagore eons ago the demon chthon carved dark magic tomb these spells transcribed darkhold there s telling soulless monstrosities lie wanda they ve waiting this nt tomb it s throne doctor strange led huge room robots mordo stephen strange you called illuminati i baron karl mordo the sorcerer supreme strange karl mordo captain carter the first avenger blackagar boltagon keeper terrigen mists the inhuman king strange blackagar boltagon hey guy mordo captain marvel defender cosmos and smartest alive reed richards fantastic four reed hello stephen strange fantastic four did nt guys chart sixties maria i m sorry is joke strange well s guy fork head little bit carter be grateful black bolt nt engage conversation strange why does breath carter this strange arrogant strange no just alive maria for reed stephen arrival confuses destabilizes reality the larger footprint leave greater risk incursion strange incursion reed an incusion occurs boundary universes erodes collide destroying entirely carter your alternate created illuminati make difficult decisions today re determine child maria so vote s time strange yeah i it s incursions re worried do i m bigger threat scarlet witch maria oh handle witch decides dreamwalk strange no no give book vishanti reed we appreciate concern stephen s scarlet witch fear from experience greatest danger multiverse turns doctor strange strange your doctor strange earth s mightiest hero died defeating thanos xavier we truth mordo our final member professor charles xavier strange what truth xavier that s strange died wanda you re wondering wong no that i accepted but i wonder when force america send universe why power you wanda for billy tommy to protect what sick in infinite multiverse s cure illness a solution problem i nt lose wong try wanda control wanda i look view it s carved stone i meant rule but s i i boys wong at cost child s life is peace knowing nt love worlds is wanda no xavier our strange defeating thanos we w r while rest banded stop thanos stephen chose mordo he turned darkhold began dreamwalking in hopes salvation lie multiverse maria and guess it nt but reed one day called profess ve dreamwalking and words things hand  you told details happened only inadvertently triggered incursion you friend caused annihilation universe maria everyone reality died everyone xavier stephen renounced darkhold he helped find book vishanti a weapon defeat thanos thus final threat remained i miss friend strange i m ready black bolt i m sorry strange did christine reed yes strange that statue statue you built statue carter the world heroes we made difficult choice knew strange capable or doctor strange capable reed the building s breached strange no shit genius carter status report sentries maria she s headed child carter watch we ll vote return xavier stephen manage escape chamber guide america chavez mordo what hell xavier save girl book vishanti strange what book xavier yes you built point mordo charles we trust xavier i believe just cause stumbles loses nt re lost forever we kind doctor strange strange thank christine 2 everybody america it s wanda automatic voice ultron commander ultron command america hurry doc s coming christine 2 oh reed wanda stop you possessed innocent woman let please i children i understand pain wanda is mother alive reed yes wanda good there left raise reed wanda black bolt destroy whisper mouth wanda what mouth strange take book vishanti fight mordo you position give orders my vote conclude proceedings return wanda have nt carter i day maria get hell universe strange they re coming back and cast vote kill friends not bothered you hated i i bet secretly brother  hated you ve jealous do i bet thrilled heard i ve corrupted hell probably gave darkhold begin mordo you universe strange i killing stephen strange ticket sanctum sorcerer supreme joining circus clowns illuminati mordo i m ready to cast vote now die i i m beginning understand mordo nt christine 2 you re sealed shut get back america whoa xavier enough wanda 2 help please xavier wanda maximoff your mind held hostage alternate grab hand if i pull rubble spell break strange hey you you you yeah america she fixed strange thank christine 2 yeah strange xavier i built waypoint book vishanti can christine 2 how i supposed trust strange i happened i m sorry but believe book vishanti christine 2 yeah your you sound lot stephen he holding knife knife controlling america this stephen different he it nt matter stephens they re strange smart kid christine 2 give hand do make regret strange i nt america okay christine 2 follow strange where tunnel christine 2 under river strange go go wanda i warned strange other wanda re hold breath america did kill strange no bought time christine 2 the book s but stephen s opened strange shit a chant specific i come christine 2 stephen strange come christine 2 stephen strange yeah thank christine 2 sure strange open sesame come kid you america i christine 2 yeah strange are christine 2 yeah this gap junction the space universes strange all book give i wanda 2 my boys america this nt children wanda they ll america maybe but strange oh oh crap christine 2 it s reality collapsed strange yeah two realities collided come america nt long christine 2 so strange well s sanctum universe  s shoot back well i guys worried incursions christine 2 whatever happened universe s nt job stopping strange i ll hello sinister stephen strange stop how strange by accident sinister stephen strange who strange i m sinister stephen strange from multiverse strange that s sinister stephen strange prove strange we sister donna she uh she died kids sinister stephen strange how strange we playing frozen lake she fell ice i nt save sinister stephen strange sounds but nt talk strange no nt i suppose reality nt sinister stephen strange i suspect d strange until sinister stephen strange until i lost strange to sinister stephen strange what strange i home sinister stephen strange yeah believe i ve leave place long time strange the darkhold you guard darkhold universe sinister stephen strange yeah for reason strange that s start i it communicate universe sinister stephen strange careful the darkhold exacts heavy toll strange i nt callous heavier toll left exact sinister stephen strange not reality on reader strange look i m sorry nt save universe save sinister stephen strange are happy stephen strange what sinister stephen strange are happy stephen it s question christine palmer asked wedding i course i m happy i m sorcerer power gods what nt happy then i back god darn haunted house sat wondered i d lied i meant happen i world things different where i christine where i happy but i nt find all i found so i stephens favor you dream re falling ve pushed tall building that probably the darkhold exacts heavy toll strange okay all reason give rest sinister stephen strange here s deal i ll darkhold give christine strange yeah i nt s gon sinister stephen strange no did nt strange hang we re coming christine 2 what darkhold are dreamwalk strange slightly dreamwalking christine 2 all stranges re strange i you re we but kid i nt while i m i protect body case attack trespassing christine 2 who s  strange the souls damned christine 2 okay but nt version live universe so dreamwalk strange who living souls damned stephen strange possessing dead body forbidden cease dreamwalk eternal consequences christine 2 stephen do nt stephen hang hang hang brazier bomgaliath go back hell stephen i ve you re master mystic arts they re spirits use use use wong come uhoh strange wanda dreamwalking hypocrite strange this time s gon killing kill wong i nt wan she s breaking free strange hold wong strange take america s power there s strange yeah this it s s body america you re gon power nt before wanda it s i understand strange no america i ve trust trust power that s stop america i nt control strange yes you every time opened portal needed america what time strange even led moment you gon kick witch s ass christine 2 i ve wanda uhhuh america i nt b so i ll give wanda billy tommy billy mommy tommy there s witch wanda what billy mommy wanda 2 wait boys it s it s it s wanda i m mother get away strange no not tommy mommy billy get away mom leave wanda boys stop please wait boys stop stop billy please nt hurt please wanda i hurt never i hurt i m monster i m i m tommy mom you re wanda okay i m tommy mom billy do nt do nt mom wanda 2 know loved america what strange get america i ll find we now wanda i opened darkhold i close no tempted darkhold strange are christine 2 is strange yeah christine 2 is america strange she s christine 2 wanda strange no so destroyed darkhold universe christine 2 she strange yes christine 2 what s universe strange it s beautiful i wish i show christine 2 i d but i strange yeah yeah i christine 2 it s could hell incursion strange i love i love universe it s i nt wan it s i scared christine 2 yeah face fears doctor strange america how harder multiversal portal strange she slow patient wong reminds student i knew how feeling strange why wong you darkhold dreamwalk corpse strange oh yeah uh i m fine but i wan are happy wong that s interesting question strange you d saving world it nt wong sometimes i wonder lives yet i remain grateful even tribulations strange soon ll long wong no nt america wait sup strange sup america chavez made sparks doctor stephen strange great your parents proud i hope ll show day america chavez stephen i m glad i found universe doctor stephen strange so i kid so i hmm yelling in pain screaming clea doctor strange docotr stephen strange can i clea you caused incursion weâ€™re gon fix unless youâ€™re afraid doctor stephen strange not pizza poppa groaning tiredly grunts laughing itâ€™s'"
            ],
            "application/vnd.google.colaboratory.intrinsic+json": {
              "type": "string"
            }
          },
          "metadata": {},
          "execution_count": 9
        }
      ]
    },
    {
      "cell_type": "code",
      "source": [
        "from nltk.stem import PorterStemmer\n",
        "from nltk.stem import LancasterStemmer"
      ],
      "metadata": {
        "id": "osXecStDr0Yc"
      },
      "id": "osXecStDr0Yc",
      "execution_count": null,
      "outputs": []
    },
    {
      "cell_type": "code",
      "source": [
        "porter = PorterStemmer()\n",
        "\n",
        "for i in data['movies']:\n",
        "  x = i['script'].split()\n",
        "  for j in x:\n",
        "    i['script'] = i['script'].replace(j, porter.stem(j))"
      ],
      "metadata": {
        "id": "k6mTqLqytdYD"
      },
      "id": "k6mTqLqytdYD",
      "execution_count": null,
      "outputs": []
    },
    {
      "cell_type": "code",
      "source": [
        "#remove numerics from the scripts\n",
        "for i in data['movies']:\n",
        "  i['script'] = \"\".join(filter(lambda x: not x.isdigit(), i['script']))\n",
        "\n"
      ],
      "metadata": {
        "id": "XXwVXn1fuCG9"
      },
      "id": "XXwVXn1fuCG9",
      "execution_count": null,
      "outputs": []
    },
    {
      "cell_type": "code",
      "source": [
        "f.close()"
      ],
      "metadata": {
        "id": "cADfxu-U0KrD"
      },
      "id": "cADfxu-U0KrD",
      "execution_count": null,
      "outputs": []
    },
    {
      "cell_type": "code",
      "source": [
        "with open(\"scripts (2).json\", \"w\") as jsonfile:\n",
        "    json.dump(data, jsonfile)"
      ],
      "metadata": {
        "id": "qn6ZEH3c1Ewp"
      },
      "id": "qn6ZEH3c1Ewp",
      "execution_count": null,
      "outputs": []
    },
    {
      "cell_type": "code",
      "source": [
        "f.close()"
      ],
      "metadata": {
        "id": "1O-GRSZk1Jbm"
      },
      "id": "1O-GRSZk1Jbm",
      "execution_count": null,
      "outputs": []
    },
    {
      "cell_type": "code",
      "source": [],
      "metadata": {
        "id": "VSE28qtZ1Wdq"
      },
      "id": "VSE28qtZ1Wdq",
      "execution_count": null,
      "outputs": []
    }
  ],
  "metadata": {
    "kernelspec": {
      "display_name": "Python 3",
      "language": "python",
      "name": "python3"
    },
    "language_info": {
      "codemirror_mode": {
        "name": "ipython",
        "version": 3
      },
      "file_extension": ".py",
      "mimetype": "text/x-python",
      "name": "python",
      "nbconvert_exporter": "python",
      "pygments_lexer": "ipython3",
      "version": "3.8.8"
    },
    "colab": {
      "provenance": []
    }
  },
  "nbformat": 4,
  "nbformat_minor": 5
}